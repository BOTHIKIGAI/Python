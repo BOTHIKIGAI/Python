{
 "cells": [
  {
   "cell_type": "markdown",
   "metadata": {},
   "source": [
    "## Ejercicio #3:"
   ]
  },
  {
   "cell_type": "markdown",
   "metadata": {},
   "source": [
    "**Fibonacci:** Crear una función que suma los **n** primeros números de\n",
    "sucesión de fibonacci y los retorne.\n",
    "\n",
    "**Ejemplos:**\n",
    "\n",
    "- sum_fibonnaci(1): Esto debe devolver 0\n",
    "- sum_fibonnaci(2): Esto debe devolver 1\n",
    "- sum_fibonnaci(3): Esto debe devolver 4\n",
    "- sum_fibonnaci(4): Esto debe devolver 7\n",
    "- sum_fibonnaci(10): Esto debe devolver 143 \n",
    "\n",
    "0, 1, 1, 2, 3, 5, 8, 13, 21, 34, 55, 89, 144, 233, 377, 610, 987, 1597"
   ]
  },
  {
   "cell_type": "code",
   "execution_count": null,
   "metadata": {},
   "outputs": [
    {
     "ename": "TypeError",
     "evalue": "'builtin_function_or_method' object is not subscriptable",
     "output_type": "error",
     "traceback": [
      "\u001b[1;31m---------------------------------------------------------------------------\u001b[0m",
      "\u001b[1;31mTypeError\u001b[0m                                 Traceback (most recent call last)",
      "Cell \u001b[1;32mIn[19], line 9\u001b[0m\n\u001b[0;32m      5\u001b[0m         a\u001b[38;5;241m.\u001b[39mappend[b];\n\u001b[0;32m      7\u001b[0m     \u001b[38;5;28;01mreturn\u001b[39;00m a[num];\n\u001b[1;32m----> 9\u001b[0m \u001b[43msum_fibonnaci\u001b[49m\u001b[43m(\u001b[49m\u001b[38;5;241;43m2\u001b[39;49m\u001b[43m)\u001b[49m\n",
      "Cell \u001b[1;32mIn[19], line 5\u001b[0m, in \u001b[0;36msum_fibonnaci\u001b[1;34m(num)\u001b[0m\n\u001b[0;32m      3\u001b[0m     a \u001b[38;5;241m=\u001b[39m [\u001b[38;5;241m0\u001b[39m];\n\u001b[0;32m      4\u001b[0m     b \u001b[38;5;241m=\u001b[39m a[\u001b[38;5;241m0\u001b[39m] \u001b[38;5;241m+\u001b[39m \u001b[38;5;241m1\u001b[39m;\n\u001b[1;32m----> 5\u001b[0m     \u001b[43ma\u001b[49m\u001b[38;5;241;43m.\u001b[39;49m\u001b[43mappend\u001b[49m\u001b[43m[\u001b[49m\u001b[43mb\u001b[49m\u001b[43m]\u001b[49m;\n\u001b[0;32m      7\u001b[0m \u001b[38;5;28;01mreturn\u001b[39;00m a[num]\n",
      "\u001b[1;31mTypeError\u001b[0m: 'builtin_function_or_method' object is not subscriptable"
     ]
    }
   ],
   "source": [
    "def fibonnaci(num):    \n",
    "    fibo = [0,1]\n",
    "\n",
    "    for x in range(num):\n",
    "        fibo.append(fibo[-2] + fibo[-1])\n",
    "        \n",
    "    return fibo[10]\n",
    "\n",
    "print(fibonnaci(10))\n"
   ]
  }
 ],
 "metadata": {
  "kernelspec": {
   "display_name": "Python 3",
   "language": "python",
   "name": "python3"
  },
  "language_info": {
   "codemirror_mode": {
    "name": "ipython",
    "version": 3
   },
   "file_extension": ".py",
   "mimetype": "text/x-python",
   "name": "python",
   "nbconvert_exporter": "python",
   "pygments_lexer": "ipython3",
   "version": "3.12.3"
  }
 },
 "nbformat": 4,
 "nbformat_minor": 2
}
