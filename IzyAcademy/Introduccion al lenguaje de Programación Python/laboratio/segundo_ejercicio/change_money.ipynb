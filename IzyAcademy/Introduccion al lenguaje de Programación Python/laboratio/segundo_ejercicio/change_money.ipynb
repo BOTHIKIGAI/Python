{
 "cells": [
  {
   "cell_type": "markdown",
   "metadata": {},
   "source": [
    "## Ejercicio #2:"
   ]
  },
  {
   "cell_type": "markdown",
   "metadata": {},
   "source": [
    "**Money Change:** Crear una función llamada change_money, esta recibirá un monto entre 1 y 99 centavos\n",
    "de Dólar y debe retornar una lista con la cantidad de monedas que son necesarias para devolverle a alguien dicho valor, si\n",
    "únicamente se cuenta con monedas de 1, 10 y 25 centavos. La lista debe entregarse de la siguiente manera:  **[N_1,  N_10, N_25]** en donde N_1, N_10 y N_25 son la cantidad de monedas de 1,10 y 25 centavos necesarias.\n",
    "\n",
    "**Ejemplo:**\n",
    "\n",
    "- change_money(n=55): Esto debe devolver la siguiente lista: [5,0,2]\n",
    "- change_money(n=47): Esto debe devolver la siguiente lista: [2,2,1]\n",
    "\n",
    "**Nota:** Si la cantidad dada es menor que 1 o mayor que 99, debe devolver None."
   ]
  },
  {
   "cell_type": "code",
   "execution_count": 53,
   "metadata": {},
   "outputs": [
    {
     "name": "stdout",
     "output_type": "stream",
     "text": [
      "[1, 0, 0]\n"
     ]
    }
   ],
   "source": [
    "import math\n",
    "\n",
    "def change_money(monto):\n",
    "    change = [0,0,0];\n",
    "    \"\"\" \n",
    "    Si retorna un valor de 0.n representara que no se puede\n",
    "    devolver un cambio con monedas de 25 centavos.\n",
    "    \"\"\"\n",
    "    \n",
    "    # 1. Saber cuantas monedas de 25 centavos se necesita\n",
    "    a = monto / 25;\n",
    "    \n",
    "    # 1.2 Saber si el monto no es suficiente para dar cambio con monedas de 25 centavos\n",
    "    if (math.floor(a) == 0):\n",
    "        \n",
    "        # 1.2.1 Saber cuantas monedas 10 centavos se necesita\n",
    "        b = monto/10;\n",
    "        \n",
    "        # 1.2.2 Saber si el monto no es suficiente para dar cambio con monedas de 10 centavos\n",
    "        if (math.floor(b) == 0):      \n",
    "            \n",
    "            # 1.2.2.1 Agregar al array el valor del monto al primer indice porque son monedas de 1 centavo\n",
    "            change[0] = monto;            \n",
    "            # 1.2.2.2 Retornar el array\n",
    "            return change;\n",
    "        \n",
    "        # 1.2.3 Si el monto es suficiente para dar cambio con monedas de 10 centavos\n",
    "        else:\n",
    "            \n",
    "            # 1.2.3.1 Se agrega la cantidad de monedas de 10 centavos al indice 1\n",
    "            change[1] = math.floor(b);\n",
    "            # 1.2.3.2 Se resta la cantidad de monedas de 10 centavos al monto\n",
    "            monto = monto - (10 * math.floor(b));\n",
    "            # 1.2.3.3 Se agrega al array el valor de monto ya que su valor sera menor a 10\n",
    "            change[0] = monto;\n",
    "            \n",
    "            return change;\n",
    "    \n",
    "    # 1.3 El monto es suficiente para dar cambio con 25 cetnavo\n",
    "    else:\n",
    "        \n",
    "        # 1.3.1 Se agrega la cantidad de monedas de 25 centavos al indice 2\n",
    "        change[2] = math.floor(a);\n",
    "        # 1.3.2 Se le resta al monto la cantidad de monedas de 25 centavos\n",
    "        monto = monto - (25 * (math.floor(a)));\n",
    "        # 1.3.3 Se divide por 10 para saber la cantidad de monedas de 10 centavos\n",
    "        c = monto/10;\n",
    "        \n",
    "        # 1.3.4 Saber si el monto no es suficiente para dar cambio con monedas de de 10 centavos\n",
    "        if (math.floor(c) == 0):\n",
    "            \n",
    "            # 1.3.1.1 Agregar al array el valor del monto al primer indice porque son monedas de 1 centavo\n",
    "            change[0] = monto;\n",
    "            return change;\n",
    "\n",
    "        # 1.3.5 Si el monto es suficiente para dar cambio de 10 centavos\n",
    "        else:\n",
    "            \n",
    "            # 1.3.5.1 Se agrega la cantidad de monedas de 10 centavos al indice 1\n",
    "            change[1] = math.floor(c);\n",
    "            # 1.3.5.2 Se le resta al monto la cantidad de monedas de 10 centavos\n",
    "            monto = monto - (10 * math.floor(c));\n",
    "            # 1.3.5.2 Se agrega al array el valor de monto ya que su valor sera menor a 10\n",
    "            change[0] = monto;\n",
    "            return change;  \n",
    "\n",
    "change = change_money(40);\n",
    "print(change);\n"
   ]
  }
 ],
 "metadata": {
  "kernelspec": {
   "display_name": "Python 3",
   "language": "python",
   "name": "python3"
  },
  "language_info": {
   "codemirror_mode": {
    "name": "ipython",
    "version": 3
   },
   "file_extension": ".py",
   "mimetype": "text/x-python",
   "name": "python",
   "nbconvert_exporter": "python",
   "pygments_lexer": "ipython3",
   "version": "3.12.3"
  }
 },
 "nbformat": 4,
 "nbformat_minor": 2
}
