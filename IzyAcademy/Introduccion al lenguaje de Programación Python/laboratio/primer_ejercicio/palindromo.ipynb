{
 "cells": [
  {
   "cell_type": "markdown",
   "metadata": {},
   "source": [
    "## Ejercicio #1:"
   ]
  },
  {
   "cell_type": "markdown",
   "metadata": {},
   "source": [
    "**Palindrome:** Crear una función llamada palindromo que determine si un número\n",
    "entero n es un palíndromo, es decir, si es el mismo número\n",
    "cuando se lee de izquierda a derecha y cuando se lee de derecha\n",
    "a izquierda. Devuelva True si es así, de lo contrario devuelva\n",
    "False.\n",
    "\n",
    "**Ejemplos:**\n",
    "\n",
    "\n",
    "- palindromo(n=3456543) : Esto debe devolver True\n",
    "- palindromo(n=543): Esto debe devolver False\n",
    "\n",
    "\n",
    "**Ayuda**: Hay una forma fácil de reversar una string y es la siguiente manera:  **nombre_variable[::-1]**\n"
   ]
  },
  {
   "cell_type": "code",
   "execution_count": 5,
   "metadata": {},
   "outputs": [
    {
     "name": "stdout",
     "output_type": "stream",
     "text": [
      "True\n",
      "False\n"
     ]
    }
   ],
   "source": [
    "# Defino una función obtener un numero entero\n",
    "def palindromo(num):\n",
    "    try:\n",
    "        num = str(num);\n",
    "        num_reverse = num[::-1];\n",
    "    \n",
    "        if (num == num_reverse):\n",
    "            return True;\n",
    "        else:\n",
    "            return False;\n",
    "    except:\n",
    "        return \"Surgio un Error\";\n",
    "\n",
    "# primer caso exitoso\n",
    "result = palindromo(898);\n",
    "print(result);\n",
    "\n",
    "# segundo caso fallido\n",
    "result = palindromo(976);\n",
    "print(result);"
   ]
  }
 ],
 "metadata": {
  "kernelspec": {
   "display_name": "Python 3",
   "language": "python",
   "name": "python3"
  },
  "language_info": {
   "codemirror_mode": {
    "name": "ipython",
    "version": 3
   },
   "file_extension": ".py",
   "mimetype": "text/x-python",
   "name": "python",
   "nbconvert_exporter": "python",
   "pygments_lexer": "ipython3",
   "version": "3.12.3"
  }
 },
 "nbformat": 4,
 "nbformat_minor": 2
}
